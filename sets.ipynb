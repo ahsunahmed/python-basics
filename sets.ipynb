{
 "cells": [
  {
   "cell_type": "markdown",
   "id": "2bd3be2a",
   "metadata": {},
   "source": [
    "### All About Sets\n"
   ]
  },
  {
   "cell_type": "code",
   "execution_count": 4,
   "id": "8c271c41",
   "metadata": {},
   "outputs": [
    {
     "name": "stdout",
     "output_type": "stream",
     "text": [
      "{1, 2, 3, 4, 5, 6}\n"
     ]
    }
   ],
   "source": [
    "# creating a set\n",
    "numbers = {1,2,2,3,4,4,5,5,6}\n",
    "print(numbers)"
   ]
  },
  {
   "cell_type": "code",
   "execution_count": 14,
   "id": "753e4350",
   "metadata": {},
   "outputs": [
    {
     "name": "stdout",
     "output_type": "stream",
     "text": [
      "{1, 3, 5, 6, 10, 11}\n",
      "{1, 3, 5, 6, 10}\n"
     ]
    }
   ],
   "source": [
    "# Adding elements to a Set\n",
    "numbers.add(11)\n",
    "print(numbers)\n",
    "# Removing elements from a Set\n",
    "numbers.remove(11)\n",
    "print(numbers)"
   ]
  },
  {
   "cell_type": "code",
   "execution_count": null,
   "id": "deb9f2db",
   "metadata": {},
   "outputs": [
    {
     "name": "stdout",
     "output_type": "stream",
     "text": [
      "6\n"
     ]
    }
   ],
   "source": [
    "# Popping the first element and returning to a Variable\n",
    "last_number = numbers.pop()\n",
    "print(last_number)"
   ]
  },
  {
   "cell_type": "code",
   "execution_count": 3,
   "id": "81f9218c",
   "metadata": {},
   "outputs": [
    {
     "data": {
      "text/plain": [
       "{1, 2, 3, 4, 5, 6}"
      ]
     },
     "execution_count": 3,
     "metadata": {},
     "output_type": "execute_result"
    }
   ],
   "source": [
    "# Joining Two Sets\n",
    "set1 = {1,2,3}\n",
    "set2 = {3,2,4,5,6}\n",
    "\n",
    "joined_set = set1.union(set2)\n",
    "\n",
    "another_joined_set = set1 | set2\n",
    "another_joined_set"
   ]
  },
  {
   "cell_type": "code",
   "execution_count": 24,
   "id": "1534d56a",
   "metadata": {},
   "outputs": [
    {
     "name": "stdout",
     "output_type": "stream",
     "text": [
      "{2, 3}\n"
     ]
    }
   ],
   "source": [
    "# Intersection of Two Sets\n",
    "intersected_set = set1.intersection(set2)\n",
    "print(intersected_set)"
   ]
  },
  {
   "cell_type": "code",
   "execution_count": 25,
   "id": "1dfb4e50",
   "metadata": {},
   "outputs": [
    {
     "data": {
      "text/plain": [
       "{1}"
      ]
     },
     "execution_count": 25,
     "metadata": {},
     "output_type": "execute_result"
    }
   ],
   "source": [
    "# Difference of Two Sets\n",
    "difference_set = set1.difference(set2)\n",
    "difference_set"
   ]
  },
  {
   "cell_type": "code",
   "execution_count": 28,
   "id": "9af9206a",
   "metadata": {},
   "outputs": [
    {
     "data": {
      "text/plain": [
       "{2, 3}"
      ]
     },
     "execution_count": 28,
     "metadata": {},
     "output_type": "execute_result"
    }
   ],
   "source": [
    "# Update Intersection Set\n",
    "set1.intersection_update(set2)\n",
    "set1"
   ]
  },
  {
   "cell_type": "code",
   "execution_count": 29,
   "id": "7326d4cd",
   "metadata": {},
   "outputs": [
    {
     "data": {
      "text/plain": [
       "{4, 5, 6}"
      ]
     },
     "execution_count": 29,
     "metadata": {},
     "output_type": "execute_result"
    }
   ],
   "source": [
    "# Update Difference Set\n",
    "set2.difference_update(set1)\n",
    "set2"
   ]
  },
  {
   "cell_type": "code",
   "execution_count": 34,
   "id": "3cf4203d",
   "metadata": {},
   "outputs": [
    {
     "name": "stdout",
     "output_type": "stream",
     "text": [
      "{1, 2, 4, 5}\n"
     ]
    }
   ],
   "source": [
    "set1 = {1,2,3}\n",
    "set2 = {3,4,5}\n",
    "newset = set2.symmetric_difference(set1)\n",
    "print(newset)"
   ]
  },
  {
   "cell_type": "code",
   "execution_count": null,
   "id": "c4223af4",
   "metadata": {},
   "outputs": [
    {
     "data": {
      "text/plain": [
       "False"
      ]
     },
     "execution_count": 38,
     "metadata": {},
     "output_type": "execute_result"
    }
   ],
   "source": [
    "# Checking Subset & Superset\n",
    "set1.issubset(set2)\n",
    "newset.issuperset(set1)"
   ]
  },
  {
   "cell_type": "code",
   "execution_count": 41,
   "id": "bdba7289",
   "metadata": {},
   "outputs": [
    {
     "name": "stdout",
     "output_type": "stream",
     "text": [
      "['Hello,', 'I', 'am', 'Ahsun', 'Ahmed', 'Sun.', 'How', 'are', 'you', 'all?', 'Doing', 'fine,', 'I', 'hope.']\n",
      "{'Hello,', 'fine,', 'Ahmed', 'Doing', 'all?', 'Ahsun', 'hope.', 'am', 'How', 'are', 'I', 'you', 'Sun.'}\n",
      "13\n"
     ]
    }
   ],
   "source": [
    "# Unique Word Counting\n",
    "text = \"Hello, I am Ahsun Ahmed Sun. How are you all? Doing fine, I hope.\"\n",
    "splitted_text = text.split()\n",
    "print(splitted_text)\n",
    "splitted_text = set(splitted_text)\n",
    "print(splitted_text)\n",
    "print(len(splitted_text))"
   ]
  }
 ],
 "metadata": {
  "kernelspec": {
   "display_name": "base",
   "language": "python",
   "name": "python3"
  },
  "language_info": {
   "codemirror_mode": {
    "name": "ipython",
    "version": 3
   },
   "file_extension": ".py",
   "mimetype": "text/x-python",
   "name": "python",
   "nbconvert_exporter": "python",
   "pygments_lexer": "ipython3",
   "version": "3.13.5"
  }
 },
 "nbformat": 4,
 "nbformat_minor": 5
}
