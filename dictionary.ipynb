{
 "cells": [
  {
   "cell_type": "markdown",
   "id": "58c2a352",
   "metadata": {},
   "source": [
    "### Dictionary\n",
    "Dictionary has mainly two components, which are KEY and VALUE. It is enclosed in the curly braces. There can be no duplicate KEYS, but duplicate values are allowed.\n",
    "\n",
    "### Dictionary Methods\n",
    "- get(key_name,default_value)\n",
    "- update({key:value})\n",
    "- del dictionary[key_name]\n",
    "- dictionary.pop(key_name)\n",
    "- dictionary.keys()\n",
    "- dictionary.values()\n",
    "- dictionary.items()\n",
    "- dictionary.clear()\n",
    "- dictionary.copy()\n",
    "- dictionary.has_key(key_name)\n",
    "- dictionary.setdefault(key_name,value)"
   ]
  },
  {
   "cell_type": "code",
   "execution_count": 26,
   "id": "6e1796cd",
   "metadata": {},
   "outputs": [
    {
     "name": "stdout",
     "output_type": "stream",
     "text": [
      "Name: Ahsun\n",
      "District: Barishal\n",
      "Religion: Islam\n"
     ]
    }
   ],
   "source": [
    "# dictionary Creating\n",
    "profile = {\n",
    "    'name': 'Ahsun',\n",
    "    'age': 22,\n",
    "    'edu': 'BSc. in CSE',\n",
    "    'district': 'Barishal',\n",
    "    'Religion': 'Islam'\n",
    "}\n",
    "\n",
    "# get & default value\n",
    "profile.get('income','500K/year')\n",
    "\n",
    "# updating with key\n",
    "profile['age'] = 23\n",
    "\n",
    "# updating with method\n",
    "profile.update({'age':25})\n",
    "\n",
    "# del method\n",
    "del profile['edu']\n",
    "\n",
    "# using pop method\n",
    "profile.pop('age')\n",
    "\n",
    "# checking only keys\n",
    "profile.keys()\n",
    "\n",
    "# checking only values\n",
    "profile.values()\n",
    "\n",
    "# checking value and keys\n",
    "profile.items()\n",
    "\n",
    "# iterating over items\n",
    "for key,value in profile.items():\n",
    "    print(f\"{key.capitalize()}: {value}\")\n",
    "\n",
    "\n",
    "\n"
   ]
  }
 ],
 "metadata": {
  "kernelspec": {
   "display_name": "base",
   "language": "python",
   "name": "python3"
  },
  "language_info": {
   "codemirror_mode": {
    "name": "ipython",
    "version": 3
   },
   "file_extension": ".py",
   "mimetype": "text/x-python",
   "name": "python",
   "nbconvert_exporter": "python",
   "pygments_lexer": "ipython3",
   "version": "3.13.5"
  }
 },
 "nbformat": 4,
 "nbformat_minor": 5
}
