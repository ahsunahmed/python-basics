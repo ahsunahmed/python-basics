{
 "cells": [
  {
   "cell_type": "markdown",
   "id": "e1c9658e",
   "metadata": {},
   "source": [
    "## Functions with Arguments: default, keyword, position, arbitrary\n"
   ]
  },
  {
   "cell_type": "code",
   "execution_count": 3,
   "id": "ce20a4b6",
   "metadata": {},
   "outputs": [
    {
     "name": "stdout",
     "output_type": "stream",
     "text": [
      "First Name: Ahsun\n",
      "Last Name: Ahmed\n",
      "City: Barishal\n"
     ]
    }
   ],
   "source": [
    "# default argument\n",
    "def profile(fname, lname, city=\"Dhaka\"):\n",
    "    print(f\"First Name: {fname}\\n\"\\\n",
    "          f\"Last Name: {lname}\\n\"\\\n",
    "          f\"City: {city}\"\n",
    "          )\n",
    "    \n",
    "profile(\"Ahsun\",\"Ahmed\",\"Barishal\")"
   ]
  },
  {
   "cell_type": "code",
   "execution_count": 5,
   "id": "c5bbef52",
   "metadata": {},
   "outputs": [
    {
     "name": "stdout",
     "output_type": "stream",
     "text": [
      "3\n"
     ]
    }
   ],
   "source": [
    "# positional argument\n",
    "def add(num1,num2):\n",
    "    return num1+num2\n",
    "print(add(1,2))"
   ]
  },
  {
   "cell_type": "code",
   "execution_count": 8,
   "id": "5a4bd028",
   "metadata": {},
   "outputs": [
    {
     "name": "stdout",
     "output_type": "stream",
     "text": [
      "Brand: Toyota\n",
      "          Model: Y5391AB\n",
      "          Weight: 400 kg\n",
      "          Capacity: 8\n",
      "          Color: Black\n",
      "          \n"
     ]
    }
   ],
   "source": [
    "# keyword argument\n",
    "def car_spec(brand,model,weight,capacity,color):\n",
    "    print(\"Brand: {}\\n\\\n",
    "          Model: {}\\n\\\n",
    "          Weight: {}\\n\\\n",
    "          Capacity: {}\\n\\\n",
    "          Color: {}\\n\\\n",
    "          \".format(brand,model,weight,capacity,color))\n",
    "    \n",
    "car_spec(model = \"Y5391AB\", brand = \"Toyota\", weight=\"400 kg\", color=\"Black\", capacity=8)"
   ]
  },
  {
   "cell_type": "code",
   "execution_count": 11,
   "id": "a67324d3",
   "metadata": {},
   "outputs": [
    {
     "name": "stdout",
     "output_type": "stream",
     "text": [
      "21\n"
     ]
    }
   ],
   "source": [
    "# Arbitrary Argument\n",
    "def sumAll(*args):\n",
    "    sum = 0\n",
    "    for num in args:\n",
    "        sum += num\n",
    "    return sum\n",
    "\n",
    "print(sumAll(1,2,3,4,5,6))"
   ]
  }
 ],
 "metadata": {
  "kernelspec": {
   "display_name": "base",
   "language": "python",
   "name": "python3"
  },
  "language_info": {
   "codemirror_mode": {
    "name": "ipython",
    "version": 3
   },
   "file_extension": ".py",
   "mimetype": "text/x-python",
   "name": "python",
   "nbconvert_exporter": "python",
   "pygments_lexer": "ipython3",
   "version": "3.13.5"
  }
 },
 "nbformat": 4,
 "nbformat_minor": 5
}
