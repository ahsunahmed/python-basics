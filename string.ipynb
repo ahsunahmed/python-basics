{
 "cells": [
  {
   "cell_type": "markdown",
   "id": "719a0a20",
   "metadata": {},
   "source": [
    "# String Manipulation"
   ]
  },
  {
   "cell_type": "code",
   "execution_count": 11,
   "id": "d2568262",
   "metadata": {},
   "outputs": [
    {
     "name": "stdout",
     "output_type": "stream",
     "text": [
      "['D', 'h', 'a', 'k', 'a']\n"
     ]
    },
    {
     "data": {
      "text/plain": [
       "'Dhakaa'"
      ]
     },
     "execution_count": 11,
     "metadata": {},
     "output_type": "execute_result"
    }
   ],
   "source": [
    "# string to list\n",
    "city = \"Dhaka\"\n",
    "# print(type(city))\n",
    "list_city = list(city)\n",
    "print(list_city)\n",
    "# new_city = city.split(\"k\")\n",
    "list_city.append('a')\n",
    "new = ''.join(list_city)\n",
    "new"
   ]
  },
  {
   "cell_type": "code",
   "execution_count": 17,
   "id": "94e53c80",
   "metadata": {},
   "outputs": [
    {
     "name": "stdout",
     "output_type": "stream",
     "text": [
      "My name is Ahsun Ahmed Sun\n",
      "My name is Ahsun Ahmed Sun\n",
      "My name is Ahsun Ahmed Sun\n"
     ]
    }
   ],
   "source": [
    "# string formatting\n",
    "name = \"Ahsun Ahmed Sun\"\n",
    "print(\"My name is %s\" % name )\n",
    "print(\"My name is {}\".format(name))\n",
    "print(f\"My name is {name}\")"
   ]
  },
  {
   "cell_type": "code",
   "execution_count": 51,
   "id": "41a0cd3d",
   "metadata": {},
   "outputs": [
    {
     "name": "stdout",
     "output_type": "stream",
     "text": [
      "bangladesh is my country. i like bangladesh\n",
      "BANGLADESH IS MY COUNTRY. I LIKE BANGLADESH\n",
      "Bangladesh is my country. i like bangladesh\n",
      "123\n",
      "True\n",
      "Barishal is my country. I like Barishal\n",
      "2\n"
     ]
    }
   ],
   "source": [
    "# String Methods: find, capitalize, lower, upper, join, split, strip, lstrip, rstrip, isnumeric, isdigit, replace, count\n",
    "country = \"Bangladesh is my country. I like Bangladesh\"\n",
    "print(country.lower())\n",
    "print(country.upper())\n",
    "print(country.capitalize())\n",
    "\n",
    "new = country.split(' ')\n",
    "\n",
    "name = \"123\"\n",
    "print(name.strip())\n",
    "\n",
    "print(name.isdigit())\n",
    "\n",
    "country = country.replace(\"Bangladesh\",\"Barishal\",2)\n",
    "print(country)\n",
    "\n",
    "print(country.count('B',0,50))"
   ]
  }
 ],
 "metadata": {
  "kernelspec": {
   "display_name": "base",
   "language": "python",
   "name": "python3"
  },
  "language_info": {
   "codemirror_mode": {
    "name": "ipython",
    "version": 3
   },
   "file_extension": ".py",
   "mimetype": "text/x-python",
   "name": "python",
   "nbconvert_exporter": "python",
   "pygments_lexer": "ipython3",
   "version": "3.13.5"
  }
 },
 "nbformat": 4,
 "nbformat_minor": 5
}
