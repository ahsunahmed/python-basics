{
 "cells": [
  {
   "cell_type": "markdown",
   "id": "97afc0d9",
   "metadata": {},
   "source": [
    "#### Conditional Statements\n"
   ]
  },
  {
   "cell_type": "code",
   "execution_count": 3,
   "id": "10635bf5",
   "metadata": {},
   "outputs": [
    {
     "name": "stdout",
     "output_type": "stream",
     "text": [
      "Error! Cannot Divide By Zero\n"
     ]
    }
   ],
   "source": [
    "### Simple Calculator\n",
    "num1 = float(input(\"Enter First number: \"))\n",
    "num2 = float(input(\"Enter Second Number: \"))\n",
    "opt = input(\"Enter any operation (+,-,*,/,%): \")\n",
    "\n",
    "if opt == \"+\":\n",
    "    print(\"Sum: \",num1+num2)\n",
    "elif opt==\"-\":\n",
    "    print(\"Subtraction: \",num1-num2)\n",
    "elif opt == \"*\":\n",
    "    print(\"Multiplication: \",num1*num2)\n",
    "elif opt == \"/\":\n",
    "    if num2==0:\n",
    "        print(\"Error! Cannot Divide By Zero\")\n",
    "    else:\n",
    "        print(\"Division: \",num1/num2)\n",
    "elif opt == \"%\":\n",
    "    print(\"Remainder: \",num1%num2)\n",
    "else:\n",
    "    print(\"invalid input!\")"
   ]
  },
  {
   "cell_type": "code",
   "execution_count": 7,
   "id": "f969fe64",
   "metadata": {},
   "outputs": [
    {
     "name": "stdout",
     "output_type": "stream",
     "text": [
      "2\n",
      "3\n",
      "5\n",
      "7\n",
      "11\n",
      "13\n",
      "17\n",
      "19\n",
      "23\n",
      "29\n",
      "31\n",
      "37\n",
      "41\n",
      "43\n",
      "47\n",
      "53\n",
      "59\n",
      "61\n",
      "67\n",
      "71\n",
      "73\n",
      "79\n",
      "83\n",
      "89\n",
      "97\n"
     ]
    }
   ],
   "source": [
    "### Prime Numbers Printing\n",
    "start_num = int(input(\"Enter the starting number: \"))\n",
    "end_num = int(input(\"Enter the last number: \"))\n",
    "\n",
    "\n",
    "for num in range(start_num,end_num+1):\n",
    "    if num>1:\n",
    "        for i in range(2,num):\n",
    "            if num%i==0:\n",
    "                break\n",
    "        else:\n",
    "            print(num)\n",
    "\n",
    "\n",
    "\n",
    "\n",
    "\n",
    "\n"
   ]
  },
  {
   "cell_type": "code",
   "execution_count": null,
   "id": "02704ecc",
   "metadata": {},
   "outputs": [],
   "source": []
  }
 ],
 "metadata": {
  "kernelspec": {
   "display_name": "venv",
   "language": "python",
   "name": "python3"
  },
  "language_info": {
   "codemirror_mode": {
    "name": "ipython",
    "version": 3
   },
   "file_extension": ".py",
   "mimetype": "text/x-python",
   "name": "python",
   "nbconvert_exporter": "python",
   "pygments_lexer": "ipython3",
   "version": "3.13.5"
  }
 },
 "nbformat": 4,
 "nbformat_minor": 5
}
