{
 "cells": [
  {
   "cell_type": "markdown",
   "id": "32731f29",
   "metadata": {},
   "source": [
    "### All About Tuples\n"
   ]
  },
  {
   "cell_type": "code",
   "execution_count": 3,
   "id": "9708026a",
   "metadata": {},
   "outputs": [
    {
     "name": "stdout",
     "output_type": "stream",
     "text": [
      "(1, 2, 3, 4, 5)\n"
     ]
    }
   ],
   "source": [
    "# tuple creating\n",
    "new_tuple = (1,2,3,4,5)\n",
    "print(new_tuple)"
   ]
  },
  {
   "cell_type": "code",
   "execution_count": null,
   "id": "17129717",
   "metadata": {},
   "outputs": [
    {
     "name": "stdout",
     "output_type": "stream",
     "text": [
      "(1, 2, 3, 4, 5, 6, 7, 8, 9, 10)\n"
     ]
    }
   ],
   "source": [
    "# joining tuples\n",
    "tuple1 = (1,2,3,4,5)\n",
    "tuple2 = (6,7,8,9,10)\n",
    "tuple3 = tuple1+tuple2\n",
    "print(tuple3)"
   ]
  },
  {
   "cell_type": "code",
   "execution_count": 7,
   "id": "77001778",
   "metadata": {},
   "outputs": [
    {
     "name": "stdout",
     "output_type": "stream",
     "text": [
      "(1, 'Hello', 3, 4, 5)\n"
     ]
    }
   ],
   "source": [
    "# Packing Tuple\n",
    "packed_tuple = 1,\"Hello\",3,4,5\n",
    "print(packed_tuple)"
   ]
  },
  {
   "cell_type": "code",
   "execution_count": 9,
   "id": "b2b1928b",
   "metadata": {},
   "outputs": [
    {
     "name": "stdout",
     "output_type": "stream",
     "text": [
      "1\n",
      "Hello\n",
      "[3, 4, 5]\n"
     ]
    }
   ],
   "source": [
    "# Unpacking Tuple\n",
    "var1,var2,*var3 = packed_tuple\n",
    "print(var1)\n",
    "print(var2)\n",
    "print(var3)"
   ]
  }
 ],
 "metadata": {
  "kernelspec": {
   "display_name": "base",
   "language": "python",
   "name": "python3"
  },
  "language_info": {
   "codemirror_mode": {
    "name": "ipython",
    "version": 3
   },
   "file_extension": ".py",
   "mimetype": "text/x-python",
   "name": "python",
   "nbconvert_exporter": "python",
   "pygments_lexer": "ipython3",
   "version": "3.13.5"
  }
 },
 "nbformat": 4,
 "nbformat_minor": 5
}
