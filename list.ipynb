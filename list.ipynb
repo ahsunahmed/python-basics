{
 "cells": [
  {
   "cell_type": "markdown",
   "id": "1a30a133",
   "metadata": {},
   "source": [
    "### List and Methods"
   ]
  },
  {
   "cell_type": "code",
   "execution_count": 16,
   "id": "263cfc0f",
   "metadata": {},
   "outputs": [
    {
     "name": "stdout",
     "output_type": "stream",
     "text": [
      "['apple', 'banana', 'guava', 'pine-apple']\n"
     ]
    }
   ],
   "source": [
    "### append, insert, remove, pop, count, index, sort, reverse, clear\n",
    "fruits = ['apple','banana','guava']\n",
    "\n",
    "fruits.append('pine-apple')\n",
    "print(fruits)"
   ]
  },
  {
   "cell_type": "code",
   "execution_count": 17,
   "id": "2ac80da3",
   "metadata": {},
   "outputs": [
    {
     "name": "stdout",
     "output_type": "stream",
     "text": [
      "['apple', 'jack-fruit', 'banana', 'guava', 'pine-apple']\n"
     ]
    }
   ],
   "source": [
    "fruits.insert(1,'jack-fruit')\n",
    "print(fruits)"
   ]
  },
  {
   "cell_type": "code",
   "execution_count": 18,
   "id": "3655b4c4",
   "metadata": {},
   "outputs": [
    {
     "name": "stdout",
     "output_type": "stream",
     "text": [
      "['apple', 'jack-fruit', 'banana', 'guava']\n"
     ]
    }
   ],
   "source": [
    "fruits.remove('pine-apple')\n",
    "print(fruits)"
   ]
  },
  {
   "cell_type": "code",
   "execution_count": 19,
   "id": "62f72c47",
   "metadata": {},
   "outputs": [
    {
     "name": "stdout",
     "output_type": "stream",
     "text": [
      "guava\n"
     ]
    }
   ],
   "source": [
    "fruit = fruits.pop()\n",
    "print(fruit)"
   ]
  },
  {
   "cell_type": "code",
   "execution_count": 20,
   "id": "a090460a",
   "metadata": {},
   "outputs": [
    {
     "name": "stdout",
     "output_type": "stream",
     "text": [
      "banana\n",
      "['apple', 'jack-fruit']\n"
     ]
    }
   ],
   "source": [
    "another_fruit = fruits.pop(2)\n",
    "print(another_fruit)\n",
    "print(fruits)"
   ]
  },
  {
   "cell_type": "code",
   "execution_count": 23,
   "id": "d310659f",
   "metadata": {},
   "outputs": [
    {
     "data": {
      "text/plain": [
       "['apple', 'banana', 'jack-fruit', 'mango', 'orange']"
      ]
     },
     "execution_count": 23,
     "metadata": {},
     "output_type": "execute_result"
    }
   ],
   "source": [
    "fruits.append(\"mango\")\n",
    "fruits.append(\"banana\")\n",
    "fruits.append(\"orange\")\n",
    "fruits.sort()\n",
    "fruits"
   ]
  },
  {
   "cell_type": "code",
   "execution_count": 27,
   "id": "503ec8b5",
   "metadata": {},
   "outputs": [
    {
     "data": {
      "text/plain": [
       "[]"
      ]
     },
     "execution_count": 27,
     "metadata": {},
     "output_type": "execute_result"
    }
   ],
   "source": [
    "fruits.reverse()\n",
    "fruits.sort()\n",
    "fruits.clear()\n",
    "fruits"
   ]
  },
  {
   "cell_type": "code",
   "execution_count": 33,
   "id": "ae88f6d1",
   "metadata": {},
   "outputs": [
    {
     "name": "stdout",
     "output_type": "stream",
     "text": [
      "(0, 12)\n",
      "(1, 3)\n",
      "(2, 4)\n",
      "(3, 4)\n",
      "(4, 5)\n",
      "(5, 5)\n",
      "(6, 6)\n",
      "(7, 6)\n",
      "(8, 7)\n"
     ]
    }
   ],
   "source": [
    "### Accessing index number in Loops\n",
    "numbers = [12,3,4,4,5,5,6,6,7]\n",
    "for i in enumerate(numbers):\n",
    "    print(i)"
   ]
  },
  {
   "cell_type": "code",
   "execution_count": 37,
   "id": "14fd19e6",
   "metadata": {},
   "outputs": [
    {
     "name": "stdout",
     "output_type": "stream",
     "text": [
      "[1, 3, 5, 7, 9]\n"
     ]
    }
   ],
   "source": [
    "lst = [x for x in range(10) if x%2==1]\n",
    "print(lst)"
   ]
  },
  {
   "cell_type": "code",
   "execution_count": 45,
   "id": "d9c0171e",
   "metadata": {},
   "outputs": [
    {
     "name": "stdout",
     "output_type": "stream",
     "text": [
      "12.345\n"
     ]
    }
   ],
   "source": [
    "num = 12.344566\n",
    "print(f\"{num:.3f}\")"
   ]
  },
  {
   "cell_type": "code",
   "execution_count": null,
   "id": "5108d01f",
   "metadata": {},
   "outputs": [
    {
     "name": "stdout",
     "output_type": "stream",
     "text": [
      "Positive Comment Count:  3\n",
      "7\n"
     ]
    }
   ],
   "source": [
    "feedback = [\"Very good\",\"Great service\",\"good work\"]\n",
    "\n",
    "feedback.append(\"Not happy with the services\")\n",
    "\n",
    "positive_feedback = sum(1 for comment in feedback if \"good\" in comment.lower() or \"great\" in comment.lower())\n",
    "print(\"Positive Comment Count: \",positive_feedback)"
   ]
  },
  {
   "cell_type": "markdown",
   "id": "6042f0d9",
   "metadata": {},
   "source": []
  }
 ],
 "metadata": {
  "kernelspec": {
   "display_name": "venv",
   "language": "python",
   "name": "python3"
  },
  "language_info": {
   "codemirror_mode": {
    "name": "ipython",
    "version": 3
   },
   "file_extension": ".py",
   "mimetype": "text/x-python",
   "name": "python",
   "nbconvert_exporter": "python",
   "pygments_lexer": "ipython3",
   "version": "3.13.5"
  }
 },
 "nbformat": 4,
 "nbformat_minor": 5
}
