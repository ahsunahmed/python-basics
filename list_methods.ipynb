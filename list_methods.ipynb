{
 "cells": [
  {
   "cell_type": "markdown",
   "id": "ab52b4d1",
   "metadata": {},
   "source": [
    "### Exploring Some List Methods: index, count, len, extend, clear, copy, reverse, sort, sorted, +"
   ]
  },
  {
   "cell_type": "code",
   "execution_count": null,
   "id": "9e437746",
   "metadata": {},
   "outputs": [
    {
     "name": "stdout",
     "output_type": "stream",
     "text": [
      "0:1\n",
      "1:2\n",
      "2:3\n",
      "3:4\n",
      "4:5\n",
      "5:6\n",
      "6:7\n"
     ]
    }
   ],
   "source": [
    "# Using `enumerate` for getting the index and value together\n",
    "numbers = [1,2,3,4,5,6,7]\n",
    "\n",
    "for index,value in enumerate(numbers):\n",
    "    print(f\"{index}:{value}\")"
   ]
  },
  {
   "cell_type": "code",
   "execution_count": 7,
   "id": "f3446bb4",
   "metadata": {},
   "outputs": [
    {
     "data": {
      "text/plain": [
       "[1, 2, 3, 4, 5, 6, 45, 56, 3]"
      ]
     },
     "execution_count": 7,
     "metadata": {},
     "output_type": "execute_result"
    }
   ],
   "source": [
    "# Extending list1 with extend() method\n",
    "num1 = [1,2,3,4,5,6]\n",
    "num2 = [45,56,3]\n",
    "\n",
    "num1.extend(num2)\n",
    "num1"
   ]
  },
  {
   "cell_type": "code",
   "execution_count": 9,
   "id": "be082eea",
   "metadata": {},
   "outputs": [
    {
     "name": "stdout",
     "output_type": "stream",
     "text": [
      "[1, 2, 3, 4, 5, 6, 45, 56, 3, 45, 56, 3]\n"
     ]
    }
   ],
   "source": [
    "# Joiing two lists with `+` sign\n",
    "num3 = num1+num2\n",
    "print(num3)"
   ]
  },
  {
   "cell_type": "code",
   "execution_count": 12,
   "id": "675ace10",
   "metadata": {},
   "outputs": [
    {
     "name": "stdout",
     "output_type": "stream",
     "text": [
      "5\n"
     ]
    }
   ],
   "source": [
    "# Checking number of occurrence with `count` method\n",
    "numlist = [1,2,2,1,3,4,5,1,6,67,34,1,32,34,2,1]\n",
    "print(numlist.count(1))"
   ]
  },
  {
   "cell_type": "code",
   "execution_count": 14,
   "id": "a4d0b30e",
   "metadata": {},
   "outputs": [
    {
     "name": "stdout",
     "output_type": "stream",
     "text": [
      "0\n"
     ]
    }
   ],
   "source": [
    "# Checking the index of an element\n",
    "print(numlist.index(1))"
   ]
  },
  {
   "cell_type": "code",
   "execution_count": 18,
   "id": "39989f87",
   "metadata": {},
   "outputs": [
    {
     "name": "stdout",
     "output_type": "stream",
     "text": [
      "[2, 10, 20, 35, 45, 50, 50, 54, 101, 130]\n"
     ]
    }
   ],
   "source": [
    "# Sort vs Sorted\n",
    "\"\"\"\n",
    "Sort method sorts the main list in an ascending order, whereas Sorted method doesn't sort the \n",
    "actual list, rather returns a sorted list. That's the main difference.\n",
    "\"\"\"\n",
    "unsorted_list = [10,50,20,130,50,54,101,45,2,35]\n",
    "\n",
    "unsorted_list.sort(reverse=False)\n",
    "print(unsorted_list)"
   ]
  },
  {
   "cell_type": "code",
   "execution_count": 20,
   "id": "1806ba43",
   "metadata": {},
   "outputs": [
    {
     "name": "stdout",
     "output_type": "stream",
     "text": [
      "[2, 10, 20, 35, 45, 50, 50, 54, 101, 130]\n"
     ]
    }
   ],
   "source": [
    "new_sorted_list = sorted(unsorted_list)\n",
    "print(new_sorted_list)"
   ]
  },
  {
   "cell_type": "code",
   "execution_count": 21,
   "id": "4d63e22b",
   "metadata": {},
   "outputs": [
    {
     "name": "stdout",
     "output_type": "stream",
     "text": [
      "[130, 101, 54, 50, 50, 45, 35, 20, 10, 2]\n"
     ]
    }
   ],
   "source": [
    "# Using reverse() we can sort a list in reverse order\n",
    "new_sorted_list.reverse()\n",
    "print(new_sorted_list)"
   ]
  }
 ],
 "metadata": {
  "kernelspec": {
   "display_name": "base",
   "language": "python",
   "name": "python3"
  },
  "language_info": {
   "codemirror_mode": {
    "name": "ipython",
    "version": 3
   },
   "file_extension": ".py",
   "mimetype": "text/x-python",
   "name": "python",
   "nbconvert_exporter": "python",
   "pygments_lexer": "ipython3",
   "version": "3.13.5"
  }
 },
 "nbformat": 4,
 "nbformat_minor": 5
}
